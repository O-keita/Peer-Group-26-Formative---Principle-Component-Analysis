{
  "cells": [
    {
      "cell_type": "markdown",
      "metadata": {
        "id": "view-in-github",
        "colab_type": "text"
      },
      "source": [
        "<a href=\"https://colab.research.google.com/github/O-keita/Peer-Group-26-Formative---Principle-Component-Analysis/blob/main/Template_PCA_Formative_1%5BPeer_Pair_26%5D.ipynb\" target=\"_parent\"><img src=\"https://colab.research.google.com/assets/colab-badge.svg\" alt=\"Open In Colab\"/></a>"
      ]
    },
    {
      "cell_type": "markdown",
      "metadata": {
        "id": "l3jhFsg2Sxx2"
      },
      "source": [
        "# Formative Assignment: Advanced Linear Algebra (PCA)\n",
        "This notebook will guide you through the implementation of Principal Component Analysis (PCA). Fill in the missing code and provide the required answers in the appropriate sections. You will work with the `fuel_econ.csv` dataset.\n",
        "\n",
        "Make sure to display outputs for each code cell when submitting."
      ]
    },
    {
      "cell_type": "markdown",
      "metadata": {
        "id": "Wxvw_1puSxx3"
      },
      "source": [
        "### Step 1: Load and Standardize the Data\n",
        "Before applying PCA, we must standardize the dataset. Standardization ensures that all features have a mean of 0 and a standard deviation of 1, which is essential for PCA.\n",
        "Fill in the code to standardize the dataset."
      ]
    },
    {
      "cell_type": "markdown",
      "source": [],
      "metadata": {
        "id": "xVPBv5NVTKPR"
      }
    },
    {
      "cell_type": "code",
      "execution_count": 4,
      "metadata": {
        "id": "I3fHA2B7Sxx4",
        "outputId": "05c7b020-461e-48dc-ee78-3adebcee82ac",
        "colab": {
          "base_uri": "https://localhost:8080/",
          "height": 244
        }
      },
      "outputs": [
        {
          "output_type": "stream",
          "name": "stdout",
          "text": [
            "Mounted at /content/drive\n"
          ]
        },
        {
          "output_type": "execute_result",
          "data": {
            "text/plain": [
              "         id      year  cylinders     displ       pv2       pv4      city  \\\n",
              "0 -1.737140 -1.475835   0.283102  0.650536  1.467096 -1.217378 -0.859960   \n",
              "1 -1.736684 -1.475835  -0.781816 -0.727998  1.864762 -1.217378  0.006427   \n",
              "2 -1.736227 -1.475835   0.283102  0.497365  1.864762 -1.217378 -0.694416   \n",
              "3 -1.735770 -1.475835   0.283102  0.497365  1.864762 -1.217378 -0.782800   \n",
              "4 -1.735313 -1.475835  -0.781816 -0.421657 -0.627278  0.734890  0.471083   \n",
              "\n",
              "      UCity   highway  UHighway      comb       co2   feScore  ghgScore  \n",
              "0 -0.852430 -1.290630 -1.392475 -1.008323  1.022838 -0.950580 -0.945755  \n",
              "1 -0.117434  0.184947 -0.039200  0.071864 -0.298550  0.188608  0.194258  \n",
              "2 -0.753245 -0.592020 -0.851750 -0.686339  0.567934 -0.380986 -0.375749  \n",
              "3 -0.830286 -0.827384 -1.027588 -0.818651  0.752062 -0.380986 -0.375749  \n",
              "4  0.433147  0.967516  0.992531  0.648059 -0.720961  1.327796  1.334271  "
            ],
            "text/html": [
              "\n",
              "  <div id=\"df-c55942a6-f6fc-4d96-8aae-aeb97a375f32\" class=\"colab-df-container\">\n",
              "    <div>\n",
              "<style scoped>\n",
              "    .dataframe tbody tr th:only-of-type {\n",
              "        vertical-align: middle;\n",
              "    }\n",
              "\n",
              "    .dataframe tbody tr th {\n",
              "        vertical-align: top;\n",
              "    }\n",
              "\n",
              "    .dataframe thead th {\n",
              "        text-align: right;\n",
              "    }\n",
              "</style>\n",
              "<table border=\"1\" class=\"dataframe\">\n",
              "  <thead>\n",
              "    <tr style=\"text-align: right;\">\n",
              "      <th></th>\n",
              "      <th>id</th>\n",
              "      <th>year</th>\n",
              "      <th>cylinders</th>\n",
              "      <th>displ</th>\n",
              "      <th>pv2</th>\n",
              "      <th>pv4</th>\n",
              "      <th>city</th>\n",
              "      <th>UCity</th>\n",
              "      <th>highway</th>\n",
              "      <th>UHighway</th>\n",
              "      <th>comb</th>\n",
              "      <th>co2</th>\n",
              "      <th>feScore</th>\n",
              "      <th>ghgScore</th>\n",
              "    </tr>\n",
              "  </thead>\n",
              "  <tbody>\n",
              "    <tr>\n",
              "      <th>0</th>\n",
              "      <td>-1.737140</td>\n",
              "      <td>-1.475835</td>\n",
              "      <td>0.283102</td>\n",
              "      <td>0.650536</td>\n",
              "      <td>1.467096</td>\n",
              "      <td>-1.217378</td>\n",
              "      <td>-0.859960</td>\n",
              "      <td>-0.852430</td>\n",
              "      <td>-1.290630</td>\n",
              "      <td>-1.392475</td>\n",
              "      <td>-1.008323</td>\n",
              "      <td>1.022838</td>\n",
              "      <td>-0.950580</td>\n",
              "      <td>-0.945755</td>\n",
              "    </tr>\n",
              "    <tr>\n",
              "      <th>1</th>\n",
              "      <td>-1.736684</td>\n",
              "      <td>-1.475835</td>\n",
              "      <td>-0.781816</td>\n",
              "      <td>-0.727998</td>\n",
              "      <td>1.864762</td>\n",
              "      <td>-1.217378</td>\n",
              "      <td>0.006427</td>\n",
              "      <td>-0.117434</td>\n",
              "      <td>0.184947</td>\n",
              "      <td>-0.039200</td>\n",
              "      <td>0.071864</td>\n",
              "      <td>-0.298550</td>\n",
              "      <td>0.188608</td>\n",
              "      <td>0.194258</td>\n",
              "    </tr>\n",
              "    <tr>\n",
              "      <th>2</th>\n",
              "      <td>-1.736227</td>\n",
              "      <td>-1.475835</td>\n",
              "      <td>0.283102</td>\n",
              "      <td>0.497365</td>\n",
              "      <td>1.864762</td>\n",
              "      <td>-1.217378</td>\n",
              "      <td>-0.694416</td>\n",
              "      <td>-0.753245</td>\n",
              "      <td>-0.592020</td>\n",
              "      <td>-0.851750</td>\n",
              "      <td>-0.686339</td>\n",
              "      <td>0.567934</td>\n",
              "      <td>-0.380986</td>\n",
              "      <td>-0.375749</td>\n",
              "    </tr>\n",
              "    <tr>\n",
              "      <th>3</th>\n",
              "      <td>-1.735770</td>\n",
              "      <td>-1.475835</td>\n",
              "      <td>0.283102</td>\n",
              "      <td>0.497365</td>\n",
              "      <td>1.864762</td>\n",
              "      <td>-1.217378</td>\n",
              "      <td>-0.782800</td>\n",
              "      <td>-0.830286</td>\n",
              "      <td>-0.827384</td>\n",
              "      <td>-1.027588</td>\n",
              "      <td>-0.818651</td>\n",
              "      <td>0.752062</td>\n",
              "      <td>-0.380986</td>\n",
              "      <td>-0.375749</td>\n",
              "    </tr>\n",
              "    <tr>\n",
              "      <th>4</th>\n",
              "      <td>-1.735313</td>\n",
              "      <td>-1.475835</td>\n",
              "      <td>-0.781816</td>\n",
              "      <td>-0.421657</td>\n",
              "      <td>-0.627278</td>\n",
              "      <td>0.734890</td>\n",
              "      <td>0.471083</td>\n",
              "      <td>0.433147</td>\n",
              "      <td>0.967516</td>\n",
              "      <td>0.992531</td>\n",
              "      <td>0.648059</td>\n",
              "      <td>-0.720961</td>\n",
              "      <td>1.327796</td>\n",
              "      <td>1.334271</td>\n",
              "    </tr>\n",
              "  </tbody>\n",
              "</table>\n",
              "</div>\n",
              "    <div class=\"colab-df-buttons\">\n",
              "\n",
              "  <div class=\"colab-df-container\">\n",
              "    <button class=\"colab-df-convert\" onclick=\"convertToInteractive('df-c55942a6-f6fc-4d96-8aae-aeb97a375f32')\"\n",
              "            title=\"Convert this dataframe to an interactive table.\"\n",
              "            style=\"display:none;\">\n",
              "\n",
              "  <svg xmlns=\"http://www.w3.org/2000/svg\" height=\"24px\" viewBox=\"0 -960 960 960\">\n",
              "    <path d=\"M120-120v-720h720v720H120Zm60-500h600v-160H180v160Zm220 220h160v-160H400v160Zm0 220h160v-160H400v160ZM180-400h160v-160H180v160Zm440 0h160v-160H620v160ZM180-180h160v-160H180v160Zm440 0h160v-160H620v160Z\"/>\n",
              "  </svg>\n",
              "    </button>\n",
              "\n",
              "  <style>\n",
              "    .colab-df-container {\n",
              "      display:flex;\n",
              "      gap: 12px;\n",
              "    }\n",
              "\n",
              "    .colab-df-convert {\n",
              "      background-color: #E8F0FE;\n",
              "      border: none;\n",
              "      border-radius: 50%;\n",
              "      cursor: pointer;\n",
              "      display: none;\n",
              "      fill: #1967D2;\n",
              "      height: 32px;\n",
              "      padding: 0 0 0 0;\n",
              "      width: 32px;\n",
              "    }\n",
              "\n",
              "    .colab-df-convert:hover {\n",
              "      background-color: #E2EBFA;\n",
              "      box-shadow: 0px 1px 2px rgba(60, 64, 67, 0.3), 0px 1px 3px 1px rgba(60, 64, 67, 0.15);\n",
              "      fill: #174EA6;\n",
              "    }\n",
              "\n",
              "    .colab-df-buttons div {\n",
              "      margin-bottom: 4px;\n",
              "    }\n",
              "\n",
              "    [theme=dark] .colab-df-convert {\n",
              "      background-color: #3B4455;\n",
              "      fill: #D2E3FC;\n",
              "    }\n",
              "\n",
              "    [theme=dark] .colab-df-convert:hover {\n",
              "      background-color: #434B5C;\n",
              "      box-shadow: 0px 1px 3px 1px rgba(0, 0, 0, 0.15);\n",
              "      filter: drop-shadow(0px 1px 2px rgba(0, 0, 0, 0.3));\n",
              "      fill: #FFFFFF;\n",
              "    }\n",
              "  </style>\n",
              "\n",
              "    <script>\n",
              "      const buttonEl =\n",
              "        document.querySelector('#df-c55942a6-f6fc-4d96-8aae-aeb97a375f32 button.colab-df-convert');\n",
              "      buttonEl.style.display =\n",
              "        google.colab.kernel.accessAllowed ? 'block' : 'none';\n",
              "\n",
              "      async function convertToInteractive(key) {\n",
              "        const element = document.querySelector('#df-c55942a6-f6fc-4d96-8aae-aeb97a375f32');\n",
              "        const dataTable =\n",
              "          await google.colab.kernel.invokeFunction('convertToInteractive',\n",
              "                                                    [key], {});\n",
              "        if (!dataTable) return;\n",
              "\n",
              "        const docLinkHtml = 'Like what you see? Visit the ' +\n",
              "          '<a target=\"_blank\" href=https://colab.research.google.com/notebooks/data_table.ipynb>data table notebook</a>'\n",
              "          + ' to learn more about interactive tables.';\n",
              "        element.innerHTML = '';\n",
              "        dataTable['output_type'] = 'display_data';\n",
              "        await google.colab.output.renderOutput(dataTable, element);\n",
              "        const docLink = document.createElement('div');\n",
              "        docLink.innerHTML = docLinkHtml;\n",
              "        element.appendChild(docLink);\n",
              "      }\n",
              "    </script>\n",
              "  </div>\n",
              "\n",
              "\n",
              "<div id=\"df-0f0ec367-1e54-4568-b08f-23c565e256c6\">\n",
              "  <button class=\"colab-df-quickchart\" onclick=\"quickchart('df-0f0ec367-1e54-4568-b08f-23c565e256c6')\"\n",
              "            title=\"Suggest charts\"\n",
              "            style=\"display:none;\">\n",
              "\n",
              "<svg xmlns=\"http://www.w3.org/2000/svg\" height=\"24px\"viewBox=\"0 0 24 24\"\n",
              "     width=\"24px\">\n",
              "    <g>\n",
              "        <path d=\"M19 3H5c-1.1 0-2 .9-2 2v14c0 1.1.9 2 2 2h14c1.1 0 2-.9 2-2V5c0-1.1-.9-2-2-2zM9 17H7v-7h2v7zm4 0h-2V7h2v10zm4 0h-2v-4h2v4z\"/>\n",
              "    </g>\n",
              "</svg>\n",
              "  </button>\n",
              "\n",
              "<style>\n",
              "  .colab-df-quickchart {\n",
              "      --bg-color: #E8F0FE;\n",
              "      --fill-color: #1967D2;\n",
              "      --hover-bg-color: #E2EBFA;\n",
              "      --hover-fill-color: #174EA6;\n",
              "      --disabled-fill-color: #AAA;\n",
              "      --disabled-bg-color: #DDD;\n",
              "  }\n",
              "\n",
              "  [theme=dark] .colab-df-quickchart {\n",
              "      --bg-color: #3B4455;\n",
              "      --fill-color: #D2E3FC;\n",
              "      --hover-bg-color: #434B5C;\n",
              "      --hover-fill-color: #FFFFFF;\n",
              "      --disabled-bg-color: #3B4455;\n",
              "      --disabled-fill-color: #666;\n",
              "  }\n",
              "\n",
              "  .colab-df-quickchart {\n",
              "    background-color: var(--bg-color);\n",
              "    border: none;\n",
              "    border-radius: 50%;\n",
              "    cursor: pointer;\n",
              "    display: none;\n",
              "    fill: var(--fill-color);\n",
              "    height: 32px;\n",
              "    padding: 0;\n",
              "    width: 32px;\n",
              "  }\n",
              "\n",
              "  .colab-df-quickchart:hover {\n",
              "    background-color: var(--hover-bg-color);\n",
              "    box-shadow: 0 1px 2px rgba(60, 64, 67, 0.3), 0 1px 3px 1px rgba(60, 64, 67, 0.15);\n",
              "    fill: var(--button-hover-fill-color);\n",
              "  }\n",
              "\n",
              "  .colab-df-quickchart-complete:disabled,\n",
              "  .colab-df-quickchart-complete:disabled:hover {\n",
              "    background-color: var(--disabled-bg-color);\n",
              "    fill: var(--disabled-fill-color);\n",
              "    box-shadow: none;\n",
              "  }\n",
              "\n",
              "  .colab-df-spinner {\n",
              "    border: 2px solid var(--fill-color);\n",
              "    border-color: transparent;\n",
              "    border-bottom-color: var(--fill-color);\n",
              "    animation:\n",
              "      spin 1s steps(1) infinite;\n",
              "  }\n",
              "\n",
              "  @keyframes spin {\n",
              "    0% {\n",
              "      border-color: transparent;\n",
              "      border-bottom-color: var(--fill-color);\n",
              "      border-left-color: var(--fill-color);\n",
              "    }\n",
              "    20% {\n",
              "      border-color: transparent;\n",
              "      border-left-color: var(--fill-color);\n",
              "      border-top-color: var(--fill-color);\n",
              "    }\n",
              "    30% {\n",
              "      border-color: transparent;\n",
              "      border-left-color: var(--fill-color);\n",
              "      border-top-color: var(--fill-color);\n",
              "      border-right-color: var(--fill-color);\n",
              "    }\n",
              "    40% {\n",
              "      border-color: transparent;\n",
              "      border-right-color: var(--fill-color);\n",
              "      border-top-color: var(--fill-color);\n",
              "    }\n",
              "    60% {\n",
              "      border-color: transparent;\n",
              "      border-right-color: var(--fill-color);\n",
              "    }\n",
              "    80% {\n",
              "      border-color: transparent;\n",
              "      border-right-color: var(--fill-color);\n",
              "      border-bottom-color: var(--fill-color);\n",
              "    }\n",
              "    90% {\n",
              "      border-color: transparent;\n",
              "      border-bottom-color: var(--fill-color);\n",
              "    }\n",
              "  }\n",
              "</style>\n",
              "\n",
              "  <script>\n",
              "    async function quickchart(key) {\n",
              "      const quickchartButtonEl =\n",
              "        document.querySelector('#' + key + ' button');\n",
              "      quickchartButtonEl.disabled = true;  // To prevent multiple clicks.\n",
              "      quickchartButtonEl.classList.add('colab-df-spinner');\n",
              "      try {\n",
              "        const charts = await google.colab.kernel.invokeFunction(\n",
              "            'suggestCharts', [key], {});\n",
              "      } catch (error) {\n",
              "        console.error('Error during call to suggestCharts:', error);\n",
              "      }\n",
              "      quickchartButtonEl.classList.remove('colab-df-spinner');\n",
              "      quickchartButtonEl.classList.add('colab-df-quickchart-complete');\n",
              "    }\n",
              "    (() => {\n",
              "      let quickchartButtonEl =\n",
              "        document.querySelector('#df-0f0ec367-1e54-4568-b08f-23c565e256c6 button');\n",
              "      quickchartButtonEl.style.display =\n",
              "        google.colab.kernel.accessAllowed ? 'block' : 'none';\n",
              "    })();\n",
              "  </script>\n",
              "</div>\n",
              "\n",
              "    </div>\n",
              "  </div>\n"
            ],
            "application/vnd.google.colaboratory.intrinsic+json": {
              "type": "dataframe",
              "summary": "{\n  \"name\": \"standardized_data[:5]  # Display the first few rows of standardized data\",\n  \"rows\": 5,\n  \"fields\": [\n    {\n      \"column\": \"id\",\n      \"properties\": {\n        \"dtype\": \"number\",\n        \"std\": 0.0007222874999270187,\n        \"min\": -1.7371404817315306,\n        \"max\": -1.7353132228313402,\n        \"num_unique_values\": 5,\n        \"samples\": [\n          -1.736683667006483,\n          -1.7353132228313402,\n          -1.7362268522814353\n        ],\n        \"semantic_type\": \"\",\n        \"description\": \"\"\n      }\n    },\n    {\n      \"column\": \"year\",\n      \"properties\": {\n        \"dtype\": \"number\",\n        \"std\": 0.0,\n        \"min\": -1.4758354769742852,\n        \"max\": -1.4758354769742852,\n        \"num_unique_values\": 1,\n        \"samples\": [\n          -1.4758354769742852\n        ],\n        \"semantic_type\": \"\",\n        \"description\": \"\"\n      }\n    },\n    {\n      \"column\": \"cylinders\",\n      \"properties\": {\n        \"dtype\": \"number\",\n        \"std\": 0.5832793230349723,\n        \"min\": -0.781815845544215,\n        \"max\": 0.2831016296311084,\n        \"num_unique_values\": 2,\n        \"samples\": [\n          -0.781815845544215\n        ],\n        \"semantic_type\": \"\",\n        \"description\": \"\"\n      }\n    },\n    {\n      \"column\": \"displ\",\n      \"properties\": {\n        \"dtype\": \"number\",\n        \"std\": 0.6278121251450749,\n        \"min\": -0.7279983314347784,\n        \"max\": 0.650535940701089,\n        \"num_unique_values\": 4,\n        \"samples\": [\n          -0.7279983314347784\n        ],\n        \"semantic_type\": \"\",\n        \"description\": \"\"\n      }\n    },\n    {\n      \"column\": \"pv2\",\n      \"properties\": {\n        \"dtype\": \"number\",\n        \"std\": 1.0837806254196136,\n        \"min\": -0.6272778360523523,\n        \"max\": 1.864762244816275,\n        \"num_unique_values\": 3,\n        \"samples\": [\n          1.4670962744648983\n        ],\n        \"semantic_type\": \"\",\n        \"description\": \"\"\n      }\n    },\n    {\n      \"column\": \"pv4\",\n      \"properties\": {\n        \"dtype\": \"number\",\n        \"std\": 0.8730807310458146,\n        \"min\": -1.217377657959785,\n        \"max\": 0.7348902065038675,\n        \"num_unique_values\": 2,\n        \"samples\": [\n          0.7348902065038675\n        ],\n        \"semantic_type\": \"\",\n        \"description\": \"\"\n      }\n    },\n    {\n      \"column\": \"city\",\n      \"properties\": {\n        \"dtype\": \"number\",\n        \"std\": 0.5841253872451574,\n        \"min\": -0.8599601154286275,\n        \"max\": 0.4710829414196465,\n        \"num_unique_values\": 5,\n        \"samples\": [\n          0.006426746186434495\n        ],\n        \"semantic_type\": \"\",\n        \"description\": \"\"\n      }\n    },\n    {\n      \"column\": \"UCity\",\n      \"properties\": {\n        \"dtype\": \"number\",\n        \"std\": 0.5669448872674652,\n        \"min\": -0.8524298628784667,\n        \"max\": 0.4331469067526361,\n        \"num_unique_values\": 5,\n        \"samples\": [\n          -0.11743407637836135\n        ],\n        \"semantic_type\": \"\",\n        \"description\": \"\"\n      }\n    },\n    {\n      \"column\": \"highway\",\n      \"properties\": {\n        \"dtype\": \"number\",\n        \"std\": 0.892449349191097,\n        \"min\": -1.2906298151085367,\n        \"max\": 0.9675158509092351,\n        \"num_unique_values\": 5,\n        \"samples\": [\n          0.18494653674425932\n        ],\n        \"semantic_type\": \"\",\n        \"description\": \"\"\n      }\n    },\n    {\n      \"column\": \"UHighway\",\n      \"properties\": {\n        \"dtype\": \"number\",\n        \"std\": 0.9528882424415701,\n        \"min\": -1.3924745891413515,\n        \"max\": 0.9925313527060878,\n        \"num_unique_values\": 5,\n        \"samples\": [\n          -0.03920038300540878\n        ],\n        \"semantic_type\": \"\",\n        \"description\": \"\"\n      }\n    },\n    {\n      \"column\": \"comb\",\n      \"properties\": {\n        \"dtype\": \"number\",\n        \"std\": 0.6963944458680547,\n        \"min\": -1.008322790998307,\n        \"max\": 0.6480588122869447,\n        \"num_unique_values\": 5,\n        \"samples\": [\n          0.071863787632699\n        ],\n        \"semantic_type\": \"\",\n        \"description\": \"\"\n      }\n    },\n    {\n      \"column\": \"co2\",\n      \"properties\": {\n        \"dtype\": \"number\",\n        \"std\": 0.7404431831012027,\n        \"min\": -0.7209609813762448,\n        \"max\": 1.022838289181318,\n        \"num_unique_values\": 5,\n        \"samples\": [\n          -0.2985499779492576\n        ],\n        \"semantic_type\": \"\",\n        \"description\": \"\"\n      }\n    },\n    {\n      \"column\": \"feScore\",\n      \"properties\": {\n        \"dtype\": \"number\",\n        \"std\": 0.8638318624174124,\n        \"min\": -0.9505795254756703,\n        \"max\": 1.3277959240249606,\n        \"num_unique_values\": 4,\n        \"samples\": [\n          0.18860819927464514\n        ],\n        \"semantic_type\": \"\",\n        \"description\": \"\"\n      }\n    },\n    {\n      \"column\": \"ghgScore\",\n      \"properties\": {\n        \"dtype\": \"number\",\n        \"std\": 0.864457872369195,\n        \"min\": -0.945755483181217,\n        \"max\": 1.3342710812728416,\n        \"num_unique_values\": 4,\n        \"samples\": [\n          0.19425779904581225\n        ],\n        \"semantic_type\": \"\",\n        \"description\": \"\"\n      }\n    }\n  ]\n}"
            }
          },
          "metadata": {},
          "execution_count": 4
        }
      ],
      "source": [
        "# Step 1: Load and Standardize the data (use of numpy only allowed)\n",
        "\n",
        "import pandas as pd\n",
        "import numpy as np\n",
        "from google.colab import drive\n",
        "\n",
        "\n",
        "drive.mount('/content/drive', force_remount=True)\n",
        "path = \"/content/drive/My Drive/fuel_econ.csv\"\n",
        "data = pd.read_csv(path)\n",
        "\n",
        "numeric_cols = data.select_dtypes(include=np.number)\n",
        "mean = np.mean(numeric_cols, axis=0)\n",
        "std = np.std(numeric_cols, axis=0)\n",
        "\n",
        "\n",
        "standardized_data = (numeric_cols - mean) / std  # Do not use sklearn (Data - Data Mean)/ Data's Standard Deviation\n",
        "standardized_data[:5]  # Display the first few rows of standardized data\n"
      ]
    },
    {
      "cell_type": "markdown",
      "metadata": {
        "id": "hEt6NfvFSxx4"
      },
      "source": [
        "### Step 3: Calculate the Covariance Matrix\n",
        "The covariance matrix helps us understand how the features are related to each other. It is a key component in PCA."
      ]
    },
    {
      "cell_type": "code",
      "execution_count": null,
      "metadata": {
        "id": "0fQuTUQxSxx4"
      },
      "outputs": [],
      "source": [
        "# Step 3: Calculate the Covariance Matrix\n",
        "cov_matrix = None  # Calculate covariance matrix\n",
        "cov_matrix"
      ]
    },
    {
      "cell_type": "markdown",
      "metadata": {
        "id": "FVnsRKG-Sxx4"
      },
      "source": [
        "### Step 4: Perform Eigendecomposition\n",
        "Eigendecomposition of the covariance matrix will give us the eigenvalues and eigenvectors, which are essential for PCA.\n",
        "Fill in the code to compute the eigenvalues and eigenvectors of the covariance matrix."
      ]
    },
    {
      "cell_type": "code",
      "execution_count": null,
      "metadata": {
        "id": "DkrWfBVuSxx4"
      },
      "outputs": [],
      "source": [
        "# Step 4: Perform Eigendecomposition\n",
        "eigenvalues, eigenvectors = None  # Perform eigendecomposition\n",
        "eigenvalues, eigenvectors"
      ]
    },
    {
      "cell_type": "markdown",
      "metadata": {
        "id": "ZygKQVqmSxx5"
      },
      "source": [
        "### Step 5: Sort Principal Components\n",
        "Sort the eigenvectors based on their corresponding eigenvalues in descending order. The higher the eigenvalue, the more important the eigenvector.\n",
        "Complete the code to sort the eigenvectors and print the sorted components."
      ]
    },
    {
      "cell_type": "code",
      "execution_count": null,
      "metadata": {
        "id": "r_1unB52Sxx5"
      },
      "outputs": [],
      "source": [
        "# Step 5: Sort Principal Components\n",
        "sorted_indices = None  # Sort eigenvalues in descending order\n",
        "sorted_eigenvectors = None  # Sort eigenvectors accordingly\n",
        "sorted_eigenvectors"
      ]
    },
    {
      "cell_type": "markdown",
      "metadata": {
        "id": "Op3KrwagSxx5"
      },
      "source": [
        "### Step 6: Project Data onto Principal Components\n",
        "Now that we’ve selected the number of components, we will project the original data onto the chosen principal components.\n",
        "Fill in the code to perform the projection."
      ]
    },
    {
      "cell_type": "code",
      "execution_count": null,
      "metadata": {
        "id": "NyQhBfoXSxx5"
      },
      "outputs": [],
      "source": [
        "# Step 6: Project Data onto Principal Components\n",
        "num_components = None  # Decide on the number of principal components to keep\n",
        "reduced_data = None  # Project data onto the principal components\n",
        "reduced_data[:5]"
      ]
    },
    {
      "cell_type": "markdown",
      "metadata": {
        "id": "p-8Z2Ag4Sxx5"
      },
      "source": [
        "### Step 7: Output the Reduced Data\n",
        "Finally, display the reduced data obtained by projecting the original dataset onto the selected principal components."
      ]
    },
    {
      "cell_type": "code",
      "execution_count": null,
      "metadata": {
        "id": "gIajO_UoSxx5"
      },
      "outputs": [],
      "source": [
        "# Step 7: Output the Reduced Data\n",
        "print(f'Reduced Data Shape: {reduced_data.shape}')  # Display reduced data shape\n",
        "reduced_data[:5]  # Display the first few rows of reduced data"
      ]
    },
    {
      "cell_type": "markdown",
      "metadata": {
        "id": "H--ya1DhSxx5"
      },
      "source": [
        "### Step 8: Visualize Before and After PCA\n",
        "Now, let's plot the original data and the data after PCA to compare the reduction in dimensions visually."
      ]
    },
    {
      "cell_type": "code",
      "execution_count": null,
      "metadata": {
        "id": "R560_igwSxx5"
      },
      "outputs": [],
      "source": [
        "# Step 8: Visualize Before and After PCA\n",
        "\n",
        "\n",
        "# Plot original data (first two features for simplicity)\n",
        "\n",
        "\n",
        "# Plot reduced data after PCA\n"
      ]
    }
  ],
  "metadata": {
    "kernelspec": {
      "display_name": "Python 3",
      "name": "python3"
    },
    "language_info": {
      "name": "python",
      "version": "3.8.8"
    },
    "colab": {
      "provenance": [],
      "include_colab_link": true
    }
  },
  "nbformat": 4,
  "nbformat_minor": 0
}